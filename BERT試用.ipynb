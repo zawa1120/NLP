{
  "nbformat": 4,
  "nbformat_minor": 0,
  "metadata": {
    "colab": {
      "name": "BERT試用.ipynb",
      "provenance": [],
      "collapsed_sections": []
    },
    "kernelspec": {
      "name": "python3",
      "display_name": "Python 3"
    }
  },
  "cells": [
    {
      "cell_type": "code",
      "metadata": {
        "id": "5voOivC3Mab3",
        "colab_type": "code",
        "outputId": "775bf818-3531-4bb7-ffd7-5886e51e2dfe",
        "colab": {
          "base_uri": "https://localhost:8080/",
          "height": 127
        }
      },
      "source": [
        "from google.colab import drive\n",
        "drive.mount('/content/drive')"
      ],
      "execution_count": 2,
      "outputs": [
        {
          "output_type": "stream",
          "text": [
            "Go to this URL in a browser: https://accounts.google.com/o/oauth2/auth?client_id=947318989803-6bn6qk8qdgf4n4g3pfee6491hc0brc4i.apps.googleusercontent.com&redirect_uri=urn%3aietf%3awg%3aoauth%3a2.0%3aoob&response_type=code&scope=email%20https%3a%2f%2fwww.googleapis.com%2fauth%2fdocs.test%20https%3a%2f%2fwww.googleapis.com%2fauth%2fdrive%20https%3a%2f%2fwww.googleapis.com%2fauth%2fdrive.photos.readonly%20https%3a%2f%2fwww.googleapis.com%2fauth%2fpeopleapi.readonly\n",
            "\n",
            "Enter your authorization code:\n",
            "··········\n",
            "Mounted at /content/drive\n"
          ],
          "name": "stdout"
        }
      ]
    },
    {
      "cell_type": "code",
      "metadata": {
        "id": "glsvVlz13_ZN",
        "colab_type": "code",
        "outputId": "fc9becde-91db-4ab0-b750-7d93a4ba2db5",
        "colab": {
          "base_uri": "https://localhost:8080/",
          "height": 35
        }
      },
      "source": [
        "%cd drive/My Drive/NLP/bert/Juman++"
      ],
      "execution_count": 3,
      "outputs": [
        {
          "output_type": "stream",
          "text": [
            "/content/drive/My Drive/NLP/bert/Juman++\n"
          ],
          "name": "stdout"
        }
      ]
    },
    {
      "cell_type": "code",
      "metadata": {
        "id": "Q6CFdd8R31qT",
        "colab_type": "code",
        "outputId": "f36848ad-a504-44d7-e21c-be8fbed46f38",
        "colab": {
          "base_uri": "https://localhost:8080/",
          "height": 217
        }
      },
      "source": [
        "!wget \"http://lotus.kuee.kyoto-u.ac.jp/nl-resource/jumanpp/jumanpp-1.02.tar.xz\""
      ],
      "execution_count": 4,
      "outputs": [
        {
          "output_type": "stream",
          "text": [
            "--2020-01-30 13:31:30--  http://lotus.kuee.kyoto-u.ac.jp/nl-resource/jumanpp/jumanpp-1.02.tar.xz\n",
            "Resolving lotus.kuee.kyoto-u.ac.jp (lotus.kuee.kyoto-u.ac.jp)... 130.54.208.131\n",
            "Connecting to lotus.kuee.kyoto-u.ac.jp (lotus.kuee.kyoto-u.ac.jp)|130.54.208.131|:80... connected.\n",
            "HTTP request sent, awaiting response... 200 OK\n",
            "Length: 631893448 (603M) [application/x-xz]\n",
            "Saving to: ‘jumanpp-1.02.tar.xz.1’\n",
            "\n",
            "jumanpp-1.02.tar.xz 100%[===================>] 602.62M  4.51MB/s    in 4m 17s  \n",
            "\n",
            "2020-01-30 13:35:46 (2.35 MB/s) - ‘jumanpp-1.02.tar.xz.1’ saved [631893448/631893448]\n",
            "\n"
          ],
          "name": "stdout"
        }
      ]
    },
    {
      "cell_type": "code",
      "metadata": {
        "id": "L-Aw2o_I4nmI",
        "colab_type": "code",
        "outputId": "da1e975a-77be-4065-f890-80fe881d28e7",
        "colab": {
          "base_uri": "https://localhost:8080/",
          "height": 1000
        }
      },
      "source": [
        "!tar xJvf jumanpp-1.02.tar.xz"
      ],
      "execution_count": 5,
      "outputs": [
        {
          "output_type": "stream",
          "text": [
            "jumanpp-1.02/\n",
            "jumanpp-1.02/dict-build/\n",
            "jumanpp-1.02/jumanpp-resource/\n",
            "jumanpp-1.02/sample/\n",
            "jumanpp-1.02/script/\n",
            "jumanpp-1.02/Makefile.am\n",
            "jumanpp-1.02/configure\n",
            "jumanpp-1.02/configure.ac\n",
            "jumanpp-1.02/aclocal.m4\n",
            "jumanpp-1.02/Makefile.in\n",
            "jumanpp-1.02/COPYING\n",
            "jumanpp-1.02/INSTALL\n",
            "jumanpp-1.02/compile\n",
            "jumanpp-1.02/config.guess\n",
            "jumanpp-1.02/config.sub\n",
            "jumanpp-1.02/depcomp\n",
            "jumanpp-1.02/install-sh\n",
            "jumanpp-1.02/missing\n",
            "jumanpp-1.02/README.md\n",
            "jumanpp-1.02/README_ja.md\n",
            "jumanpp-1.02/jumanpp-manual.pdf\n",
            "jumanpp-1.02/VERSION\n",
            "jumanpp-1.02/src/\n",
            "jumanpp-1.02/src/rnnlm/\n",
            "jumanpp-1.02/src/Makefile.am\n",
            "jumanpp-1.02/src/Makefile.in\n",
            "jumanpp-1.02/src/config.h.in\n",
            "jumanpp-1.02/src/charlattice.cc\n",
            "jumanpp-1.02/src/dic.cc\n",
            "jumanpp-1.02/src/feature.cc\n",
            "jumanpp-1.02/src/morph.cc\n",
            "jumanpp-1.02/src/node.cc\n",
            "jumanpp-1.02/src/pos.cc\n",
            "jumanpp-1.02/src/scw.cc\n",
            "jumanpp-1.02/src/sentence.cc\n",
            "jumanpp-1.02/src/tagger.cc\n",
            "jumanpp-1.02/src/tools.cc\n",
            "jumanpp-1.02/src/u8string.cc\n",
            "jumanpp-1.02/src/cdb_juman.cc\n",
            "jumanpp-1.02/src/cdb_juman.h\n",
            "jumanpp-1.02/src/charlattice.h\n",
            "jumanpp-1.02/src/cmdline.h\n",
            "jumanpp-1.02/src/common.h\n",
            "jumanpp-1.02/src/darts.h\n",
            "jumanpp-1.02/src/dic.h\n",
            "jumanpp-1.02/src/feature.h\n",
            "jumanpp-1.02/src/node.h\n",
            "jumanpp-1.02/src/parameter.h\n",
            "jumanpp-1.02/src/pos.h\n",
            "jumanpp-1.02/src/scw.h\n",
            "jumanpp-1.02/src/sentence.h\n",
            "jumanpp-1.02/src/tagger.h\n",
            "jumanpp-1.02/src/u8string.h\n",
            "jumanpp-1.02/src/mmap.h\n",
            "jumanpp-1.02/src/feature_vector.cc\n",
            "jumanpp-1.02/src/feature_vector.h\n",
            "jumanpp-1.02/src/hash.h\n",
            "jumanpp-1.02/src/mkdarts.cc\n",
            "jumanpp-1.02/src/cdb/\n",
            "jumanpp-1.02/src/cdb/Makefile.am\n",
            "jumanpp-1.02/src/cdb/Makefile.in\n",
            "jumanpp-1.02/src/cdb/cdb_init.c\n",
            "jumanpp-1.02/src/cdb/cdb_find.c\n",
            "jumanpp-1.02/src/cdb/cdb_findnext.c\n",
            "jumanpp-1.02/src/cdb/cdb_seq.c\n",
            "jumanpp-1.02/src/cdb/cdb_seek.c\n",
            "jumanpp-1.02/src/cdb/cdb_unpack.c\n",
            "jumanpp-1.02/src/cdb/cdb_make_add.c\n",
            "jumanpp-1.02/src/cdb/cdb_make_put.c\n",
            "jumanpp-1.02/src/cdb/cdb_make.c\n",
            "jumanpp-1.02/src/cdb/cdb_hash.c\n",
            "jumanpp-1.02/src/cdb/cdb_int.h\n",
            "jumanpp-1.02/src/cdb/cdb.h\n",
            "jumanpp-1.02/src/rnnlm/rnnlmlib_dynamic.cpp\n",
            "jumanpp-1.02/src/rnnlm/rnnlmlib_static.cpp\n",
            "jumanpp-1.02/src/rnnlm/rnnlmlib_dynamic.h\n",
            "jumanpp-1.02/src/rnnlm/rnnlmlib_static.h\n",
            "jumanpp-1.02/src/rnnlm/rnnlmlib.h\n",
            "jumanpp-1.02/script/server.rb\n",
            "jumanpp-1.02/script/client.rb\n",
            "jumanpp-1.02/script/postprocess.py\n",
            "jumanpp-1.02/script/corpus2train.rb\n",
            "jumanpp-1.02/script/fullmrp2basep.rb\n",
            "jumanpp-1.02/script/jmn2base.py\n",
            "jumanpp-1.02/sample/part_sample.txt\n",
            "jumanpp-1.02/sample/python_juman.py\n",
            "jumanpp-1.02/sample/python_knp.py\n",
            "jumanpp-1.02/jumanpp-resource/dic.base\n",
            "jumanpp-1.02/jumanpp-resource/dic.bin\n",
            "jumanpp-1.02/jumanpp-resource/dic.da\n",
            "jumanpp-1.02/jumanpp-resource/dic.form\n",
            "jumanpp-1.02/jumanpp-resource/dic.form_type\n",
            "jumanpp-1.02/jumanpp-resource/dic.imis\n",
            "jumanpp-1.02/jumanpp-resource/dic.pos\n",
            "jumanpp-1.02/jumanpp-resource/dic.read\n",
            "jumanpp-1.02/jumanpp-resource/dic.rep\n",
            "jumanpp-1.02/jumanpp-resource/dic.spos\n",
            "jumanpp-1.02/jumanpp-resource/feature.def\n",
            "jumanpp-1.02/jumanpp-resource/freq_words.list\n",
            "jumanpp-1.02/jumanpp-resource/lang.mdl\n",
            "jumanpp-1.02/jumanpp-resource/lang.mdl.nnet\n",
            "jumanpp-1.02/jumanpp-resource/version\n",
            "jumanpp-1.02/jumanpp-resource/weight.mdl\n",
            "jumanpp-1.02/dict-build/dic/\n",
            "jumanpp-1.02/dict-build/grammar/\n",
            "jumanpp-1.02/dict-build/onomatopedic/\n",
            "jumanpp-1.02/dict-build/scripts/\n",
            "jumanpp-1.02/dict-build/userdic/\n",
            "jumanpp-1.02/dict-build/webdic/\n",
            "jumanpp-1.02/dict-build/wikipediadic/\n",
            "jumanpp-1.02/dict-build/wiktionarydic/\n",
            "jumanpp-1.02/dict-build/userdic.mdic\n",
            "jumanpp-1.02/dict-build/Makefile\n",
            "jumanpp-1.02/dict-build/install.sh\n",
            "jumanpp-1.02/dict-build/wiktionarydic/wiktionary.dic\n",
            "jumanpp-1.02/dict-build/wiktionarydic/Wiktionary_KanjiMark.dic\n",
            "jumanpp-1.02/dict-build/wikipediadic/wikipedia.dic.orig\n",
            "jumanpp-1.02/dict-build/webdic/Web.dic\n",
            "jumanpp-1.02/dict-build/userdic/dummy.dic\n",
            "jumanpp-1.02/dict-build/scripts/lib/\n",
            "jumanpp-1.02/dict-build/scripts/Juman.pm\n",
            "jumanpp-1.02/dict-build/scripts/hikkomi.rule\n",
            "jumanpp-1.02/dict-build/scripts/JumanSexp.pm\n",
            "jumanpp-1.02/dict-build/scripts/update.sh\n",
            "jumanpp-1.02/dict-build/scripts/juman2morph.rb\n",
            "jumanpp-1.02/dict-build/scripts/jumandic2morphdic.perl\n",
            "jumanpp-1.02/dict-build/scripts/.hikkomi.rule.swo\n",
            "jumanpp-1.02/dict-build/scripts/mkgrammarpm\n",
            "jumanpp-1.02/dict-build/scripts/lib/Sexp.pm\n",
            "jumanpp-1.02/dict-build/onomatopedic/Onomatopoeia.dic\n",
            "jumanpp-1.02/dict-build/grammar/JUMAN.grammar\n",
            "jumanpp-1.02/dict-build/grammar/JUMAN.kankei\n",
            "jumanpp-1.02/dict-build/grammar/JUMAN.katuyou\n",
            "jumanpp-1.02/dict-build/dic/Suffix.dic\n",
            "jumanpp-1.02/dict-build/dic/Lexicon_from_rengo.dic\n",
            "jumanpp-1.02/dict-build/dic/ContentW.marked_dic\n",
            "jumanpp-1.02/dict-build/dic/Townname.dic\n",
            "jumanpp-1.02/dict-build/dic/Assert.dic\n",
            "jumanpp-1.02/dict-build/dic/AuxV.dic\n",
            "jumanpp-1.02/dict-build/dic/Demonstrative.dic\n",
            "jumanpp-1.02/dict-build/dic/Emoticon.dic\n",
            "jumanpp-1.02/dict-build/dic/Noun.hukusi.dic\n",
            "jumanpp-1.02/dict-build/dic/Noun.keishiki.dic\n",
            "jumanpp-1.02/dict-build/dic/Noun.koyuu.dic\n",
            "jumanpp-1.02/dict-build/dic/Noun.suusi.dic\n",
            "jumanpp-1.02/dict-build/dic/Postp.dic\n",
            "jumanpp-1.02/dict-build/dic/Prefix.dic\n",
            "jumanpp-1.02/dict-build/dic/Rendaku.dic\n",
            "jumanpp-1.02/dict-build/dic/Rengo.dic\n",
            "jumanpp-1.02/dict-build/dic/Special.dic\n"
          ],
          "name": "stdout"
        }
      ]
    },
    {
      "cell_type": "code",
      "metadata": {
        "id": "hXj6iv_A4s58",
        "colab_type": "code",
        "outputId": "d677c192-0ab6-458e-83a6-9dab4718847d",
        "colab": {
          "base_uri": "https://localhost:8080/",
          "height": 35
        }
      },
      "source": [
        "cd jumanpp-1.02"
      ],
      "execution_count": 6,
      "outputs": [
        {
          "output_type": "stream",
          "text": [
            "/content/drive/My Drive/NLP/bert/Juman++/jumanpp-1.02\n"
          ],
          "name": "stdout"
        }
      ]
    },
    {
      "cell_type": "code",
      "metadata": {
        "id": "327hGZMF5DoQ",
        "colab_type": "code",
        "outputId": "4ac3c792-7a90-4efc-d3e3-5ecaf3ce231e",
        "colab": {
          "base_uri": "https://localhost:8080/",
          "height": 1000
        }
      },
      "source": [
        "!./configure"
      ],
      "execution_count": 7,
      "outputs": [
        {
          "output_type": "stream",
          "text": [
            "checking for a BSD-compatible install... /usr/bin/install -c\n",
            "checking whether build environment is sane... yes\n",
            "checking for a thread-safe mkdir -p... /bin/mkdir -p\n",
            "checking for gawk... no\n",
            "checking for mawk... mawk\n",
            "checking whether make sets $(MAKE)... yes\n",
            "checking whether make supports nested variables... yes\n",
            "checking for g++... g++\n",
            "checking whether the C++ compiler works... yes\n",
            "checking for C++ compiler default output file name... a.out\n",
            "checking for suffix of executables... \n",
            "checking whether we are cross compiling... no\n",
            "checking for suffix of object files... o\n",
            "checking whether we are using the GNU C++ compiler... yes\n",
            "checking whether g++ accepts -g... yes\n",
            "checking for style of include used by make... GNU\n",
            "checking dependency style of g++... gcc3\n",
            "checking for gcc... gcc\n",
            "checking whether we are using the GNU C compiler... yes\n",
            "checking whether gcc accepts -g... yes\n",
            "checking for gcc option to accept ISO C89... none needed\n",
            "checking whether gcc understands -c and -o together... yes\n",
            "checking dependency style of gcc... gcc3\n",
            "checking whether ln -s works... no, using cp -pR\n",
            "checking for ranlib... ranlib\n",
            "checking whether g++ supports C++11 features by default... yes\n",
            "checking build system type... x86_64-unknown-linux-gnu\n",
            "checking host system type... x86_64-unknown-linux-gnu\n",
            "checking for boostlib >= 1.57... yes\n",
            "checking for main in -ltcmalloc... no\n",
            "configure: WARNING: \"Warning: cannot find -ltcmalloc. It is recommended to link libtcmalloc.\"\n",
            "checking for main in -lm... yes\n",
            "checking for main in -lpthread... yes\n",
            "checking for main in -lrt... yes\n",
            "checking how to run the C preprocessor... gcc -E\n",
            "checking for grep that handles long lines and -e... /bin/grep\n",
            "checking for egrep... /bin/grep -E\n",
            "checking for ANSI C header files... yes\n",
            "checking for sys/types.h... yes\n",
            "checking for sys/stat.h... yes\n",
            "checking for stdlib.h... yes\n",
            "checking for string.h... yes\n",
            "checking for memory.h... yes\n",
            "checking for strings.h... yes\n",
            "checking for inttypes.h... yes\n",
            "checking for stdint.h... yes\n",
            "checking for unistd.h... yes\n",
            "checking fcntl.h usability... yes\n",
            "checking fcntl.h presence... yes\n",
            "checking for fcntl.h... yes\n",
            "checking float.h usability... yes\n",
            "checking float.h presence... yes\n",
            "checking for float.h... yes\n",
            "checking for inttypes.h... (cached) yes\n",
            "checking malloc.h usability... yes\n",
            "checking malloc.h presence... yes\n",
            "checking for malloc.h... yes\n",
            "checking for memory.h... (cached) yes\n",
            "checking shadow.h usability... yes\n",
            "checking shadow.h presence... yes\n",
            "checking for shadow.h... yes\n",
            "checking stddef.h usability... yes\n",
            "checking stddef.h presence... yes\n",
            "checking for stddef.h... yes\n",
            "checking for stdlib.h... (cached) yes\n",
            "checking for string.h... (cached) yes\n",
            "checking sys/file.h usability... yes\n",
            "checking sys/file.h presence... yes\n",
            "checking for sys/file.h... yes\n",
            "checking for unistd.h... (cached) yes\n",
            "checking for stdbool.h that conforms to C99... yes\n",
            "checking for _Bool... yes\n",
            "checking for uid_t in sys/types.h... yes\n",
            "checking for inline... inline\n",
            "checking for int64_t... yes\n",
            "checking for size_t... yes\n",
            "checking for uint64_t... yes\n",
            "checking for error_at_line... yes\n",
            "checking for stdlib.h... (cached) yes\n",
            "checking for GNU libc compatible malloc... yes\n",
            "checking for stdlib.h... (cached) yes\n",
            "checking for unistd.h... (cached) yes\n",
            "checking for sys/param.h... yes\n",
            "checking for getpagesize... yes\n",
            "checking for working mmap... yes\n",
            "checking for stdlib.h... (cached) yes\n",
            "checking for GNU libc compatible realloc... yes\n",
            "checking for memmove... yes\n",
            "checking for memset... yes\n",
            "checking for munmap... yes\n",
            "checking for setenv... yes\n",
            "checking for sqrt... yes\n",
            "checking for strchr... yes\n",
            "checking for strerror... yes\n",
            "checking for strrchr... yes\n",
            "checking for strstr... yes\n",
            "checking for strtol... yes\n",
            "checking for strtoul... yes\n",
            "checking that generated files are newer than configure... done\n",
            "configure: creating ./config.status\n",
            "config.status: creating Makefile\n",
            "config.status: creating src/Makefile\n",
            "config.status: creating src/cdb/Makefile\n",
            "config.status: creating src/config.h\n",
            "config.status: src/config.h is unchanged\n",
            "config.status: executing depfiles commands\n"
          ],
          "name": "stdout"
        }
      ]
    },
    {
      "cell_type": "code",
      "metadata": {
        "id": "fPqDX4_A5bof",
        "colab_type": "code",
        "outputId": "11dd97a9-9767-4fe8-a754-06a123729091",
        "colab": {
          "base_uri": "https://localhost:8080/",
          "height": 289
        }
      },
      "source": [
        "!make"
      ],
      "execution_count": 8,
      "outputs": [
        {
          "output_type": "stream",
          "text": [
            "Making all in src\n",
            "make[1]: Entering directory '/content/drive/My Drive/NLP/bert/Juman++/jumanpp-1.02/src'\n",
            "make  all-recursive\n",
            "make[2]: Entering directory '/content/drive/My Drive/NLP/bert/Juman++/jumanpp-1.02/src'\n",
            "Making all in cdb\n",
            "make[3]: Entering directory '/content/drive/My Drive/NLP/bert/Juman++/jumanpp-1.02/src/cdb'\n",
            "make[3]: Nothing to be done for 'all'.\n",
            "make[3]: Leaving directory '/content/drive/My Drive/NLP/bert/Juman++/jumanpp-1.02/src/cdb'\n",
            "make[3]: Entering directory '/content/drive/My Drive/NLP/bert/Juman++/jumanpp-1.02/src'\n",
            "make[3]: Leaving directory '/content/drive/My Drive/NLP/bert/Juman++/jumanpp-1.02/src'\n",
            "make[2]: Leaving directory '/content/drive/My Drive/NLP/bert/Juman++/jumanpp-1.02/src'\n",
            "make[1]: Leaving directory '/content/drive/My Drive/NLP/bert/Juman++/jumanpp-1.02/src'\n",
            "make[1]: Entering directory '/content/drive/My Drive/NLP/bert/Juman++/jumanpp-1.02'\n",
            "make[1]: Nothing to be done for 'all-am'.\n",
            "make[1]: Leaving directory '/content/drive/My Drive/NLP/bert/Juman++/jumanpp-1.02'\n"
          ],
          "name": "stdout"
        }
      ]
    },
    {
      "cell_type": "code",
      "metadata": {
        "id": "aOPCnNmJ5m4M",
        "colab_type": "code",
        "outputId": "59837ac3-0b11-452d-e407-37d56d8d40a2",
        "colab": {
          "base_uri": "https://localhost:8080/",
          "height": 509
        }
      },
      "source": [
        "!sudo make install"
      ],
      "execution_count": 9,
      "outputs": [
        {
          "output_type": "stream",
          "text": [
            "Making install in src\n",
            "make[1]: Entering directory '/content/drive/My Drive/NLP/bert/Juman++/jumanpp-1.02/src'\n",
            "Making install in cdb\n",
            "make[2]: Entering directory '/content/drive/My Drive/NLP/bert/Juman++/jumanpp-1.02/src/cdb'\n",
            "make[3]: Entering directory '/content/drive/My Drive/NLP/bert/Juman++/jumanpp-1.02/src/cdb'\n",
            "make[3]: Nothing to be done for 'install-exec-am'.\n",
            "make[3]: Nothing to be done for 'install-data-am'.\n",
            "make[3]: Leaving directory '/content/drive/My Drive/NLP/bert/Juman++/jumanpp-1.02/src/cdb'\n",
            "make[2]: Leaving directory '/content/drive/My Drive/NLP/bert/Juman++/jumanpp-1.02/src/cdb'\n",
            "make[2]: Entering directory '/content/drive/My Drive/NLP/bert/Juman++/jumanpp-1.02/src'\n",
            "make[3]: Entering directory '/content/drive/My Drive/NLP/bert/Juman++/jumanpp-1.02/src'\n",
            " /bin/mkdir -p '/usr/local/bin'\n",
            "  /usr/bin/install -c jumanpp mkdarts_jumanpp '/usr/local/bin'\n",
            "make[3]: Nothing to be done for 'install-data-am'.\n",
            "make[3]: Leaving directory '/content/drive/My Drive/NLP/bert/Juman++/jumanpp-1.02/src'\n",
            "make[2]: Leaving directory '/content/drive/My Drive/NLP/bert/Juman++/jumanpp-1.02/src'\n",
            "make[1]: Leaving directory '/content/drive/My Drive/NLP/bert/Juman++/jumanpp-1.02/src'\n",
            "make[1]: Entering directory '/content/drive/My Drive/NLP/bert/Juman++/jumanpp-1.02'\n",
            "make[2]: Entering directory '/content/drive/My Drive/NLP/bert/Juman++/jumanpp-1.02'\n",
            "make[2]: Nothing to be done for 'install-exec-am'.\n",
            " /bin/mkdir -p '/usr/local/share/jumanpp'\n",
            " /usr/bin/install -c -m 644 jumanpp-resource/dic.base jumanpp-resource/dic.bin jumanpp-resource/dic.da jumanpp-resource/dic.form jumanpp-resource/dic.form_type jumanpp-resource/dic.imis jumanpp-resource/dic.pos jumanpp-resource/dic.read jumanpp-resource/dic.rep jumanpp-resource/dic.spos jumanpp-resource/feature.def jumanpp-resource/freq_words.list jumanpp-resource/lang.mdl jumanpp-resource/lang.mdl.nnet jumanpp-resource/version jumanpp-resource/weight.mdl '/usr/local/share/jumanpp'\n",
            " /bin/mkdir -p '/usr/local/share/jumanpp'\n",
            " /usr/bin/install -c -m 644 jumanpp-resource/lang.mdl.direct jumanpp-resource/lang.mdl.map jumanpp-resource/lang.mdl.nnet.map jumanpp-resource/weight.mdl.map jumanpp-resource/dic.base.map jumanpp-resource/dic.form.map jumanpp-resource/dic.form_type.map jumanpp-resource/dic.imis.map jumanpp-resource/dic.pos.map jumanpp-resource/dic.read.map jumanpp-resource/dic.rep.map jumanpp-resource/dic.spos.map '/usr/local/share/jumanpp'\n",
            "make[2]: Leaving directory '/content/drive/My Drive/NLP/bert/Juman++/jumanpp-1.02'\n",
            "make[1]: Leaving directory '/content/drive/My Drive/NLP/bert/Juman++/jumanpp-1.02'\n"
          ],
          "name": "stdout"
        }
      ]
    },
    {
      "cell_type": "code",
      "metadata": {
        "id": "A85MV_QQ5qOq",
        "colab_type": "code",
        "outputId": "855a7704-11fb-44f1-c87a-d5b3ab8e6c89",
        "colab": {
          "base_uri": "https://localhost:8080/",
          "height": 127
        }
      },
      "source": [
        "!sudo pip install pyknp"
      ],
      "execution_count": 10,
      "outputs": [
        {
          "output_type": "stream",
          "text": [
            "Collecting pyknp\n",
            "  Downloading https://files.pythonhosted.org/packages/c2/86/7eaabaca7e313ee099e43cc5b9d61419130c2a180e83a1d92b030e7ed351/pyknp-0.4.1-py3-none-any.whl\n",
            "Requirement already satisfied: six in /usr/local/lib/python3.6/dist-packages (from pyknp) (1.12.0)\n",
            "Installing collected packages: pyknp\n",
            "Successfully installed pyknp-0.4.1\n"
          ],
          "name": "stdout"
        }
      ]
    },
    {
      "cell_type": "code",
      "metadata": {
        "id": "Yxf4N5KCAoZU",
        "colab_type": "code",
        "colab": {}
      },
      "source": [
        "#juman++/jumanpp-1.02/bert/tokenization.py\n",
        "#tokenization.pyの真ん中やや上"
      ],
      "execution_count": 0,
      "outputs": []
    }
  ]
}