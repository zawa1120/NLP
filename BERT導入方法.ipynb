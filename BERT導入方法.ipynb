{
 "cells": [
  {
   "cell_type": "markdown",
   "metadata": {},
   "source": [
    "* 目的：日本語学習済みBERTを導入\n",
    "\n",
    "* 動作環境：Google Colaboratory"
   ]
  },
  {
   "cell_type": "markdown",
   "metadata": {},
   "source": [
    "# 日本語学習済みBERTのインストール"
   ]
  },
  {
   "cell_type": "markdown",
   "metadata": {},
   "source": [
    "①以下のURLから\"通常版:Japanese_L-12_H-768_A-12_E-30_BPE.zip (1.6G)\"をダウンロード <br>\n",
    "http://nlp.ist.i.kyoto-u.ac.jp/index.php?BERT%E6%97%A5%E6%9C%AC%E8%AA%9EPretrained%E3%83%A2%E3%83%87%E3%83%AB#k1aa6ee3 <br>\n",
    "②ダウンロードしたものをGoogleのマイドライブの好きな場所に保存しておく <br>"
   ]
  },
  {
   "cell_type": "code",
   "execution_count": 1,
   "metadata": {
    "colab": {
     "base_uri": "https://localhost:8080/",
     "height": 127
    },
    "colab_type": "code",
    "id": "5voOivC3Mab3",
    "outputId": "775bf818-3531-4bb7-ffd7-5886e51e2dfe"
   },
   "outputs": [
    {
     "ename": "ModuleNotFoundError",
     "evalue": "No module named 'google'",
     "output_type": "error",
     "traceback": [
      "\u001b[1;31m---------------------------------------------------------------------------\u001b[0m",
      "\u001b[1;31mModuleNotFoundError\u001b[0m                       Traceback (most recent call last)",
      "\u001b[1;32m<ipython-input-1-01e1971f9b23>\u001b[0m in \u001b[0;36m<module>\u001b[1;34m\u001b[0m\n\u001b[0;32m      1\u001b[0m \u001b[1;31m#ドライブにマウント\u001b[0m\u001b[1;33m\u001b[0m\u001b[1;33m\u001b[0m\u001b[1;33m\u001b[0m\u001b[0m\n\u001b[1;32m----> 2\u001b[1;33m \u001b[1;32mfrom\u001b[0m \u001b[0mgoogle\u001b[0m\u001b[1;33m.\u001b[0m\u001b[0mcolab\u001b[0m \u001b[1;32mimport\u001b[0m \u001b[0mdrive\u001b[0m\u001b[1;33m\u001b[0m\u001b[1;33m\u001b[0m\u001b[0m\n\u001b[0m\u001b[0;32m      3\u001b[0m \u001b[0mdrive\u001b[0m\u001b[1;33m.\u001b[0m\u001b[0mmount\u001b[0m\u001b[1;33m(\u001b[0m\u001b[1;34m'/content/drive'\u001b[0m\u001b[1;33m)\u001b[0m\u001b[1;33m\u001b[0m\u001b[1;33m\u001b[0m\u001b[0m\n",
      "\u001b[1;31mModuleNotFoundError\u001b[0m: No module named 'google'"
     ]
    }
   ],
   "source": [
    "#ドライブにマウント\n",
    "from google.colab import drive\n",
    "drive.mount('/content/drive')"
   ]
  },
  {
   "cell_type": "markdown",
   "metadata": {},
   "source": [
    "# JUMAN++のインストール\n",
    "* BERTを動作するのに必要"
   ]
  },
  {
   "cell_type": "code",
   "execution_count": 2,
   "metadata": {
    "colab": {
     "base_uri": "https://localhost:8080/",
     "height": 35
    },
    "colab_type": "code",
    "id": "glsvVlz13_ZN",
    "outputId": "fc9becde-91db-4ab0-b750-7d93a4ba2db5"
   },
   "outputs": [
    {
     "name": "stdout",
     "output_type": "stream",
     "text": [
      "[WinError 3] 指定されたパスが見つかりません。: 'drive/My Drive/JUMAN++の保存場所'\n",
      "C:\\Users\\ckz11\n"
     ]
    }
   ],
   "source": [
    "%cd drive/My Drive/\"JUMAN++の保存場所\""
   ]
  },
  {
   "cell_type": "code",
   "execution_count": 4,
   "metadata": {
    "colab": {
     "base_uri": "https://localhost:8080/",
     "height": 217
    },
    "colab_type": "code",
    "id": "Q6CFdd8R31qT",
    "outputId": "f36848ad-a504-44d7-e21c-be8fbed46f38"
   },
   "outputs": [
    {
     "name": "stdout",
     "output_type": "stream",
     "text": [
      "--2020-01-30 13:31:30--  http://lotus.kuee.kyoto-u.ac.jp/nl-resource/jumanpp/jumanpp-1.02.tar.xz\n",
      "Resolving lotus.kuee.kyoto-u.ac.jp (lotus.kuee.kyoto-u.ac.jp)... 130.54.208.131\n",
      "Connecting to lotus.kuee.kyoto-u.ac.jp (lotus.kuee.kyoto-u.ac.jp)|130.54.208.131|:80... connected.\n",
      "HTTP request sent, awaiting response... 200 OK\n",
      "Length: 631893448 (603M) [application/x-xz]\n",
      "Saving to: ‘jumanpp-1.02.tar.xz.1’\n",
      "\n",
      "jumanpp-1.02.tar.xz 100%[===================>] 602.62M  4.51MB/s    in 4m 17s  \n",
      "\n",
      "2020-01-30 13:35:46 (2.35 MB/s) - ‘jumanpp-1.02.tar.xz.1’ saved [631893448/631893448]\n",
      "\n"
     ]
    }
   ],
   "source": [
    "!wget \"http://lotus.kuee.kyoto-u.ac.jp/nl-resource/jumanpp/jumanpp-1.02.tar.xz\""
   ]
  },
  {
   "cell_type": "code",
   "execution_count": 5,
   "metadata": {
    "colab": {
     "base_uri": "https://localhost:8080/",
     "height": 1000
    },
    "colab_type": "code",
    "id": "L-Aw2o_I4nmI",
    "outputId": "da1e975a-77be-4065-f890-80fe881d28e7"
   },
   "outputs": [
    {
     "name": "stdout",
     "output_type": "stream",
     "text": [
      "jumanpp-1.02/\n",
      "jumanpp-1.02/dict-build/\n",
      "jumanpp-1.02/jumanpp-resource/\n",
      "jumanpp-1.02/sample/\n",
      "jumanpp-1.02/script/\n",
      "jumanpp-1.02/Makefile.am\n",
      "jumanpp-1.02/configure\n",
      "jumanpp-1.02/configure.ac\n",
      "jumanpp-1.02/aclocal.m4\n",
      "jumanpp-1.02/Makefile.in\n",
      "jumanpp-1.02/COPYING\n",
      "jumanpp-1.02/INSTALL\n",
      "jumanpp-1.02/compile\n",
      "jumanpp-1.02/config.guess\n",
      "jumanpp-1.02/config.sub\n",
      "jumanpp-1.02/depcomp\n",
      "jumanpp-1.02/install-sh\n",
      "jumanpp-1.02/missing\n",
      "jumanpp-1.02/README.md\n",
      "jumanpp-1.02/README_ja.md\n",
      "jumanpp-1.02/jumanpp-manual.pdf\n",
      "jumanpp-1.02/VERSION\n",
      "jumanpp-1.02/src/\n",
      "jumanpp-1.02/src/rnnlm/\n",
      "jumanpp-1.02/src/Makefile.am\n",
      "jumanpp-1.02/src/Makefile.in\n",
      "jumanpp-1.02/src/config.h.in\n",
      "jumanpp-1.02/src/charlattice.cc\n",
      "jumanpp-1.02/src/dic.cc\n",
      "jumanpp-1.02/src/feature.cc\n",
      "jumanpp-1.02/src/morph.cc\n",
      "jumanpp-1.02/src/node.cc\n",
      "jumanpp-1.02/src/pos.cc\n",
      "jumanpp-1.02/src/scw.cc\n",
      "jumanpp-1.02/src/sentence.cc\n",
      "jumanpp-1.02/src/tagger.cc\n",
      "jumanpp-1.02/src/tools.cc\n",
      "jumanpp-1.02/src/u8string.cc\n",
      "jumanpp-1.02/src/cdb_juman.cc\n",
      "jumanpp-1.02/src/cdb_juman.h\n",
      "jumanpp-1.02/src/charlattice.h\n",
      "jumanpp-1.02/src/cmdline.h\n",
      "jumanpp-1.02/src/common.h\n",
      "jumanpp-1.02/src/darts.h\n",
      "jumanpp-1.02/src/dic.h\n",
      "jumanpp-1.02/src/feature.h\n",
      "jumanpp-1.02/src/node.h\n",
      "jumanpp-1.02/src/parameter.h\n",
      "jumanpp-1.02/src/pos.h\n",
      "jumanpp-1.02/src/scw.h\n",
      "jumanpp-1.02/src/sentence.h\n",
      "jumanpp-1.02/src/tagger.h\n",
      "jumanpp-1.02/src/u8string.h\n",
      "jumanpp-1.02/src/mmap.h\n",
      "jumanpp-1.02/src/feature_vector.cc\n",
      "jumanpp-1.02/src/feature_vector.h\n",
      "jumanpp-1.02/src/hash.h\n",
      "jumanpp-1.02/src/mkdarts.cc\n",
      "jumanpp-1.02/src/cdb/\n",
      "jumanpp-1.02/src/cdb/Makefile.am\n",
      "jumanpp-1.02/src/cdb/Makefile.in\n",
      "jumanpp-1.02/src/cdb/cdb_init.c\n",
      "jumanpp-1.02/src/cdb/cdb_find.c\n",
      "jumanpp-1.02/src/cdb/cdb_findnext.c\n",
      "jumanpp-1.02/src/cdb/cdb_seq.c\n",
      "jumanpp-1.02/src/cdb/cdb_seek.c\n",
      "jumanpp-1.02/src/cdb/cdb_unpack.c\n",
      "jumanpp-1.02/src/cdb/cdb_make_add.c\n",
      "jumanpp-1.02/src/cdb/cdb_make_put.c\n",
      "jumanpp-1.02/src/cdb/cdb_make.c\n",
      "jumanpp-1.02/src/cdb/cdb_hash.c\n",
      "jumanpp-1.02/src/cdb/cdb_int.h\n",
      "jumanpp-1.02/src/cdb/cdb.h\n",
      "jumanpp-1.02/src/rnnlm/rnnlmlib_dynamic.cpp\n",
      "jumanpp-1.02/src/rnnlm/rnnlmlib_static.cpp\n",
      "jumanpp-1.02/src/rnnlm/rnnlmlib_dynamic.h\n",
      "jumanpp-1.02/src/rnnlm/rnnlmlib_static.h\n",
      "jumanpp-1.02/src/rnnlm/rnnlmlib.h\n",
      "jumanpp-1.02/script/server.rb\n",
      "jumanpp-1.02/script/client.rb\n",
      "jumanpp-1.02/script/postprocess.py\n",
      "jumanpp-1.02/script/corpus2train.rb\n",
      "jumanpp-1.02/script/fullmrp2basep.rb\n",
      "jumanpp-1.02/script/jmn2base.py\n",
      "jumanpp-1.02/sample/part_sample.txt\n",
      "jumanpp-1.02/sample/python_juman.py\n",
      "jumanpp-1.02/sample/python_knp.py\n",
      "jumanpp-1.02/jumanpp-resource/dic.base\n",
      "jumanpp-1.02/jumanpp-resource/dic.bin\n",
      "jumanpp-1.02/jumanpp-resource/dic.da\n",
      "jumanpp-1.02/jumanpp-resource/dic.form\n",
      "jumanpp-1.02/jumanpp-resource/dic.form_type\n",
      "jumanpp-1.02/jumanpp-resource/dic.imis\n",
      "jumanpp-1.02/jumanpp-resource/dic.pos\n",
      "jumanpp-1.02/jumanpp-resource/dic.read\n",
      "jumanpp-1.02/jumanpp-resource/dic.rep\n",
      "jumanpp-1.02/jumanpp-resource/dic.spos\n",
      "jumanpp-1.02/jumanpp-resource/feature.def\n",
      "jumanpp-1.02/jumanpp-resource/freq_words.list\n",
      "jumanpp-1.02/jumanpp-resource/lang.mdl\n",
      "jumanpp-1.02/jumanpp-resource/lang.mdl.nnet\n",
      "jumanpp-1.02/jumanpp-resource/version\n",
      "jumanpp-1.02/jumanpp-resource/weight.mdl\n",
      "jumanpp-1.02/dict-build/dic/\n",
      "jumanpp-1.02/dict-build/grammar/\n",
      "jumanpp-1.02/dict-build/onomatopedic/\n",
      "jumanpp-1.02/dict-build/scripts/\n",
      "jumanpp-1.02/dict-build/userdic/\n",
      "jumanpp-1.02/dict-build/webdic/\n",
      "jumanpp-1.02/dict-build/wikipediadic/\n",
      "jumanpp-1.02/dict-build/wiktionarydic/\n",
      "jumanpp-1.02/dict-build/userdic.mdic\n",
      "jumanpp-1.02/dict-build/Makefile\n",
      "jumanpp-1.02/dict-build/install.sh\n",
      "jumanpp-1.02/dict-build/wiktionarydic/wiktionary.dic\n",
      "jumanpp-1.02/dict-build/wiktionarydic/Wiktionary_KanjiMark.dic\n",
      "jumanpp-1.02/dict-build/wikipediadic/wikipedia.dic.orig\n",
      "jumanpp-1.02/dict-build/webdic/Web.dic\n",
      "jumanpp-1.02/dict-build/userdic/dummy.dic\n",
      "jumanpp-1.02/dict-build/scripts/lib/\n",
      "jumanpp-1.02/dict-build/scripts/Juman.pm\n",
      "jumanpp-1.02/dict-build/scripts/hikkomi.rule\n",
      "jumanpp-1.02/dict-build/scripts/JumanSexp.pm\n",
      "jumanpp-1.02/dict-build/scripts/update.sh\n",
      "jumanpp-1.02/dict-build/scripts/juman2morph.rb\n",
      "jumanpp-1.02/dict-build/scripts/jumandic2morphdic.perl\n",
      "jumanpp-1.02/dict-build/scripts/.hikkomi.rule.swo\n",
      "jumanpp-1.02/dict-build/scripts/mkgrammarpm\n",
      "jumanpp-1.02/dict-build/scripts/lib/Sexp.pm\n",
      "jumanpp-1.02/dict-build/onomatopedic/Onomatopoeia.dic\n",
      "jumanpp-1.02/dict-build/grammar/JUMAN.grammar\n",
      "jumanpp-1.02/dict-build/grammar/JUMAN.kankei\n",
      "jumanpp-1.02/dict-build/grammar/JUMAN.katuyou\n",
      "jumanpp-1.02/dict-build/dic/Suffix.dic\n",
      "jumanpp-1.02/dict-build/dic/Lexicon_from_rengo.dic\n",
      "jumanpp-1.02/dict-build/dic/ContentW.marked_dic\n",
      "jumanpp-1.02/dict-build/dic/Townname.dic\n",
      "jumanpp-1.02/dict-build/dic/Assert.dic\n",
      "jumanpp-1.02/dict-build/dic/AuxV.dic\n",
      "jumanpp-1.02/dict-build/dic/Demonstrative.dic\n",
      "jumanpp-1.02/dict-build/dic/Emoticon.dic\n",
      "jumanpp-1.02/dict-build/dic/Noun.hukusi.dic\n",
      "jumanpp-1.02/dict-build/dic/Noun.keishiki.dic\n",
      "jumanpp-1.02/dict-build/dic/Noun.koyuu.dic\n",
      "jumanpp-1.02/dict-build/dic/Noun.suusi.dic\n",
      "jumanpp-1.02/dict-build/dic/Postp.dic\n",
      "jumanpp-1.02/dict-build/dic/Prefix.dic\n",
      "jumanpp-1.02/dict-build/dic/Rendaku.dic\n",
      "jumanpp-1.02/dict-build/dic/Rengo.dic\n",
      "jumanpp-1.02/dict-build/dic/Special.dic\n"
     ]
    }
   ],
   "source": [
    "!tar xJvf jumanpp-1.02.tar.xz"
   ]
  },
  {
   "cell_type": "code",
   "execution_count": 6,
   "metadata": {
    "colab": {
     "base_uri": "https://localhost:8080/",
     "height": 35
    },
    "colab_type": "code",
    "id": "hXj6iv_A4s58",
    "outputId": "d677c192-0ab6-458e-83a6-9dab4718847d"
   },
   "outputs": [
    {
     "name": "stdout",
     "output_type": "stream",
     "text": [
      "/content/drive/My Drive/NLP/bert/Juman++/jumanpp-1.02\n"
     ]
    }
   ],
   "source": [
    "cd jumanpp-1.02"
   ]
  },
  {
   "cell_type": "code",
   "execution_count": 7,
   "metadata": {
    "colab": {
     "base_uri": "https://localhost:8080/",
     "height": 1000
    },
    "colab_type": "code",
    "id": "327hGZMF5DoQ",
    "outputId": "4ac3c792-7a90-4efc-d3e3-5ecaf3ce231e"
   },
   "outputs": [
    {
     "name": "stdout",
     "output_type": "stream",
     "text": [
      "checking for a BSD-compatible install... /usr/bin/install -c\n",
      "checking whether build environment is sane... yes\n",
      "checking for a thread-safe mkdir -p... /bin/mkdir -p\n",
      "checking for gawk... no\n",
      "checking for mawk... mawk\n",
      "checking whether make sets $(MAKE)... yes\n",
      "checking whether make supports nested variables... yes\n",
      "checking for g++... g++\n",
      "checking whether the C++ compiler works... yes\n",
      "checking for C++ compiler default output file name... a.out\n",
      "checking for suffix of executables... \n",
      "checking whether we are cross compiling... no\n",
      "checking for suffix of object files... o\n",
      "checking whether we are using the GNU C++ compiler... yes\n",
      "checking whether g++ accepts -g... yes\n",
      "checking for style of include used by make... GNU\n",
      "checking dependency style of g++... gcc3\n",
      "checking for gcc... gcc\n",
      "checking whether we are using the GNU C compiler... yes\n",
      "checking whether gcc accepts -g... yes\n",
      "checking for gcc option to accept ISO C89... none needed\n",
      "checking whether gcc understands -c and -o together... yes\n",
      "checking dependency style of gcc... gcc3\n",
      "checking whether ln -s works... no, using cp -pR\n",
      "checking for ranlib... ranlib\n",
      "checking whether g++ supports C++11 features by default... yes\n",
      "checking build system type... x86_64-unknown-linux-gnu\n",
      "checking host system type... x86_64-unknown-linux-gnu\n",
      "checking for boostlib >= 1.57... yes\n",
      "checking for main in -ltcmalloc... no\n",
      "configure: WARNING: \"Warning: cannot find -ltcmalloc. It is recommended to link libtcmalloc.\"\n",
      "checking for main in -lm... yes\n",
      "checking for main in -lpthread... yes\n",
      "checking for main in -lrt... yes\n",
      "checking how to run the C preprocessor... gcc -E\n",
      "checking for grep that handles long lines and -e... /bin/grep\n",
      "checking for egrep... /bin/grep -E\n",
      "checking for ANSI C header files... yes\n",
      "checking for sys/types.h... yes\n",
      "checking for sys/stat.h... yes\n",
      "checking for stdlib.h... yes\n",
      "checking for string.h... yes\n",
      "checking for memory.h... yes\n",
      "checking for strings.h... yes\n",
      "checking for inttypes.h... yes\n",
      "checking for stdint.h... yes\n",
      "checking for unistd.h... yes\n",
      "checking fcntl.h usability... yes\n",
      "checking fcntl.h presence... yes\n",
      "checking for fcntl.h... yes\n",
      "checking float.h usability... yes\n",
      "checking float.h presence... yes\n",
      "checking for float.h... yes\n",
      "checking for inttypes.h... (cached) yes\n",
      "checking malloc.h usability... yes\n",
      "checking malloc.h presence... yes\n",
      "checking for malloc.h... yes\n",
      "checking for memory.h... (cached) yes\n",
      "checking shadow.h usability... yes\n",
      "checking shadow.h presence... yes\n",
      "checking for shadow.h... yes\n",
      "checking stddef.h usability... yes\n",
      "checking stddef.h presence... yes\n",
      "checking for stddef.h... yes\n",
      "checking for stdlib.h... (cached) yes\n",
      "checking for string.h... (cached) yes\n",
      "checking sys/file.h usability... yes\n",
      "checking sys/file.h presence... yes\n",
      "checking for sys/file.h... yes\n",
      "checking for unistd.h... (cached) yes\n",
      "checking for stdbool.h that conforms to C99... yes\n",
      "checking for _Bool... yes\n",
      "checking for uid_t in sys/types.h... yes\n",
      "checking for inline... inline\n",
      "checking for int64_t... yes\n",
      "checking for size_t... yes\n",
      "checking for uint64_t... yes\n",
      "checking for error_at_line... yes\n",
      "checking for stdlib.h... (cached) yes\n",
      "checking for GNU libc compatible malloc... yes\n",
      "checking for stdlib.h... (cached) yes\n",
      "checking for unistd.h... (cached) yes\n",
      "checking for sys/param.h... yes\n",
      "checking for getpagesize... yes\n",
      "checking for working mmap... yes\n",
      "checking for stdlib.h... (cached) yes\n",
      "checking for GNU libc compatible realloc... yes\n",
      "checking for memmove... yes\n",
      "checking for memset... yes\n",
      "checking for munmap... yes\n",
      "checking for setenv... yes\n",
      "checking for sqrt... yes\n",
      "checking for strchr... yes\n",
      "checking for strerror... yes\n",
      "checking for strrchr... yes\n",
      "checking for strstr... yes\n",
      "checking for strtol... yes\n",
      "checking for strtoul... yes\n",
      "checking that generated files are newer than configure... done\n",
      "configure: creating ./config.status\n",
      "config.status: creating Makefile\n",
      "config.status: creating src/Makefile\n",
      "config.status: creating src/cdb/Makefile\n",
      "config.status: creating src/config.h\n",
      "config.status: src/config.h is unchanged\n",
      "config.status: executing depfiles commands\n"
     ]
    }
   ],
   "source": [
    "!./configure"
   ]
  },
  {
   "cell_type": "code",
   "execution_count": 8,
   "metadata": {
    "colab": {
     "base_uri": "https://localhost:8080/",
     "height": 289
    },
    "colab_type": "code",
    "id": "fPqDX4_A5bof",
    "outputId": "11dd97a9-9767-4fe8-a754-06a123729091"
   },
   "outputs": [
    {
     "name": "stdout",
     "output_type": "stream",
     "text": [
      "Making all in src\n",
      "make[1]: Entering directory '/content/drive/My Drive/NLP/bert/Juman++/jumanpp-1.02/src'\n",
      "make  all-recursive\n",
      "make[2]: Entering directory '/content/drive/My Drive/NLP/bert/Juman++/jumanpp-1.02/src'\n",
      "Making all in cdb\n",
      "make[3]: Entering directory '/content/drive/My Drive/NLP/bert/Juman++/jumanpp-1.02/src/cdb'\n",
      "make[3]: Nothing to be done for 'all'.\n",
      "make[3]: Leaving directory '/content/drive/My Drive/NLP/bert/Juman++/jumanpp-1.02/src/cdb'\n",
      "make[3]: Entering directory '/content/drive/My Drive/NLP/bert/Juman++/jumanpp-1.02/src'\n",
      "make[3]: Leaving directory '/content/drive/My Drive/NLP/bert/Juman++/jumanpp-1.02/src'\n",
      "make[2]: Leaving directory '/content/drive/My Drive/NLP/bert/Juman++/jumanpp-1.02/src'\n",
      "make[1]: Leaving directory '/content/drive/My Drive/NLP/bert/Juman++/jumanpp-1.02/src'\n",
      "make[1]: Entering directory '/content/drive/My Drive/NLP/bert/Juman++/jumanpp-1.02'\n",
      "make[1]: Nothing to be done for 'all-am'.\n",
      "make[1]: Leaving directory '/content/drive/My Drive/NLP/bert/Juman++/jumanpp-1.02'\n"
     ]
    }
   ],
   "source": [
    "!make"
   ]
  },
  {
   "cell_type": "code",
   "execution_count": null,
   "metadata": {
    "colab": {
     "base_uri": "https://localhost:8080/",
     "height": 509
    },
    "colab_type": "code",
    "id": "aOPCnNmJ5m4M",
    "outputId": "59837ac3-0b11-452d-e407-37d56d8d40a2"
   },
   "outputs": [],
   "source": [
    "!sudo make install"
   ]
  },
  {
   "cell_type": "markdown",
   "metadata": {},
   "source": [
    "# pyknpのインストール\n",
    "* 同様にBERT動作のために必要"
   ]
  },
  {
   "cell_type": "code",
   "execution_count": 10,
   "metadata": {
    "colab": {
     "base_uri": "https://localhost:8080/",
     "height": 127
    },
    "colab_type": "code",
    "id": "A85MV_QQ5qOq",
    "outputId": "855a7704-11fb-44f1-c87a-d5b3ab8e6c89"
   },
   "outputs": [
    {
     "name": "stdout",
     "output_type": "stream",
     "text": [
      "Collecting pyknp\n",
      "  Downloading https://files.pythonhosted.org/packages/c2/86/7eaabaca7e313ee099e43cc5b9d61419130c2a180e83a1d92b030e7ed351/pyknp-0.4.1-py3-none-any.whl\n",
      "Requirement already satisfied: six in /usr/local/lib/python3.6/dist-packages (from pyknp) (1.12.0)\n",
      "Installing collected packages: pyknp\n",
      "Successfully installed pyknp-0.4.1\n"
     ]
    }
   ],
   "source": [
    "!sudo pip install pyknp"
   ]
  },
  {
   "cell_type": "markdown",
   "metadata": {},
   "source": [
    "# JUMAN++に対応させるためにコードの一部を改修"
   ]
  },
  {
   "cell_type": "markdown",
   "metadata": {
    "colab": {},
    "colab_type": "code",
    "id": "Yxf4N5KCAoZU"
   },
   "source": [
    "* Colabの左側にあるファイルから /\"JUMAN++の保存場所\"/juman++/jumanpp-1.02/bert/tokenization.py を開く\n",
    "* tokenization.pyの真ん中やや上を改修する"
   ]
  },
  {
   "cell_type": "code",
   "execution_count": null,
   "metadata": {},
   "outputs": [],
   "source": [
    "class FullTokenizer(object):\n",
    "  \"\"\"Runs end-to-end tokenziation.\"\"\"\n",
    "\n",
    "  def __init__(self, vocab_file, do_lower_case=True):\n",
    "    self.vocab = load_vocab(vocab_file)\n",
    "    self.inv_vocab = {v: k for k, v in self.vocab.items()}\n",
    "\n",
    "    # JUMAN++を用いた日本語対応の場合、BasicTokenizerを使わない。\n",
    "    # self.basic_tokenizer = BasicTokenizer(do_lower_case=do_lower_case)\n",
    "    self.jumanpp_tokenizer = JumanPPTokenizer()\n",
    "    self.wordpiece_tokenizer = WordpieceTokenizer(vocab=self.vocab)\n",
    "\n",
    "  def tokenize(self, text):\n",
    "    split_tokens = []\n",
    "    # JUMAN++を用いた日本語対応用。\n",
    "    # 設定で切り替えることが出来ればよいのだが。\n",
    "    #for token in self.basic_tokenizer.tokenize(text):\n",
    "    for token in self.jumanpp_tokenizer.tokenize(text):\n",
    "      for sub_token in self.wordpiece_tokenizer.tokenize(token):\n",
    "        split_tokens.append(sub_token)\n",
    "\n",
    "    return split_tokens\n",
    "\n",
    "  def convert_tokens_to_ids(self, tokens):\n",
    "    return convert_by_vocab(self.vocab, tokens)\n",
    "\n",
    "  def convert_ids_to_tokens(self, ids):\n",
    "    return convert_by_vocab(self.inv_vocab, ids)"
   ]
  },
  {
   "cell_type": "markdown",
   "metadata": {},
   "source": [
    "* JumanPPTokenizerの追加\n",
    "* 同様のファイル内の一番下に以下のコードを追加"
   ]
  },
  {
   "cell_type": "code",
   "execution_count": null,
   "metadata": {},
   "outputs": [],
   "source": [
    "class JumanPPTokenizer(BasicTokenizer):\n",
    "  def __init__(self):\n",
    "    \"\"\"\n",
    "        日本語専用トークナイザの構築。\n",
    "        JUMAN++ を使用する。\n",
    "    \"\"\"\n",
    "    from pyknp import Juman\n",
    "\n",
    "    self.do_lower_case = False\n",
    "    self._jumanpp = Juman()\n",
    "\n",
    "  def tokenize(self, text):\n",
    "    \"\"\"Tokenizes a piece of text.\"\"\"\n",
    "    text = convert_to_unicode(text.replace(' ', ''))\n",
    "    text = self._clean_text(text)\n",
    "\n",
    "    juman_result = self._jumanpp.analysis(text)\n",
    "    split_tokens = []\n",
    "    for mrph in juman_result.mrph_list():\n",
    "      split_tokens.extend(self._run_split_on_punc(mrph.midasi))\n",
    "\n",
    "    output_tokens = whitespace_tokenize(\" \".join(split_tokens))\n",
    "    print(split_tokens)\n",
    "    return output_tokens"
   ]
  },
  {
   "cell_type": "markdown",
   "metadata": {},
   "source": [
    "# 参考URL\n",
    "* https://qiita.com/takahashi_yukou/items/b81319b8ef6cee13cb1b\n",
    "* https://dev.classmethod.jp/machine-learning/bert-text-embedding/"
   ]
  }
 ],
 "metadata": {
  "colab": {
   "collapsed_sections": [],
   "name": "BERT試用.ipynb",
   "provenance": []
  },
  "kernelspec": {
   "display_name": "Python 3",
   "language": "python",
   "name": "python3"
  },
  "language_info": {
   "codemirror_mode": {
    "name": "ipython",
    "version": 3
   },
   "file_extension": ".py",
   "mimetype": "text/x-python",
   "name": "python",
   "nbconvert_exporter": "python",
   "pygments_lexer": "ipython3",
   "version": "3.7.4"
  }
 },
 "nbformat": 4,
 "nbformat_minor": 1
}
