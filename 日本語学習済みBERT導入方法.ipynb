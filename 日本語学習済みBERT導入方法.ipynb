{
 "cells": [
  {
   "cell_type": "markdown",
   "metadata": {},
   "source": [
    "* 目的：日本語学習済みBERTを導入\n",
    "\n",
    "* 動作環境：Google Colaboratory"
   ]
  },
  {
   "cell_type": "markdown",
   "metadata": {},
   "source": [
    "# 日本語学習済みBERTのインストール"
   ]
  },
  {
   "cell_type": "markdown",
   "metadata": {},
   "source": [
    "①以下のURLから\"通常版:Japanese_L-12_H-768_A-12_E-30_BPE.zip (1.6G)\"をダウンロード <br>\n",
    "http://nlp.ist.i.kyoto-u.ac.jp/index.php?BERT%E6%97%A5%E6%9C%AC%E8%AA%9EPretrained%E3%83%A2%E3%83%87%E3%83%AB#k1aa6ee3 <br>\n",
    "②ダウンロードしたものをGoogleのマイドライブの好きな場所に保存しておく <br>"
   ]
  },
  {
   "cell_type": "code",
   "execution_count": null,
   "metadata": {
    "colab": {
     "base_uri": "https://localhost:8080/",
     "height": 127
    },
    "colab_type": "code",
    "id": "5voOivC3Mab3",
    "outputId": "775bf818-3531-4bb7-ffd7-5886e51e2dfe"
   },
   "outputs": [],
   "source": [
    "#ドライブにマウント\n",
    "from google.colab import drive\n",
    "drive.mount('/content/drive')"
   ]
  },
  {
   "cell_type": "markdown",
   "metadata": {},
   "source": [
    "# JUMAN++のインストール\n",
    "* BERTを動作するのに必要"
   ]
  },
  {
   "cell_type": "code",
   "execution_count": null,
   "metadata": {
    "colab": {
     "base_uri": "https://localhost:8080/",
     "height": 35
    },
    "colab_type": "code",
    "id": "glsvVlz13_ZN",
    "outputId": "fc9becde-91db-4ab0-b750-7d93a4ba2db5"
   },
   "outputs": [],
   "source": [
    "%cd drive/My Drive/\"JUMAN++の保存場所\""
   ]
  },
  {
   "cell_type": "code",
   "execution_count": null,
   "metadata": {
    "colab": {
     "base_uri": "https://localhost:8080/",
     "height": 217
    },
    "colab_type": "code",
    "id": "Q6CFdd8R31qT",
    "outputId": "f36848ad-a504-44d7-e21c-be8fbed46f38"
   },
   "outputs": [],
   "source": [
    "!wget \"http://lotus.kuee.kyoto-u.ac.jp/nl-resource/jumanpp/jumanpp-1.02.tar.xz\""
   ]
  },
  {
   "cell_type": "code",
   "execution_count": null,
   "metadata": {
    "colab": {
     "base_uri": "https://localhost:8080/",
     "height": 1000
    },
    "colab_type": "code",
    "id": "L-Aw2o_I4nmI",
    "outputId": "da1e975a-77be-4065-f890-80fe881d28e7"
   },
   "outputs": [],
   "source": [
    "!tar xJvf jumanpp-1.02.tar.xz"
   ]
  },
  {
   "cell_type": "code",
   "execution_count": null,
   "metadata": {
    "colab": {
     "base_uri": "https://localhost:8080/",
     "height": 35
    },
    "colab_type": "code",
    "id": "hXj6iv_A4s58",
    "outputId": "d677c192-0ab6-458e-83a6-9dab4718847d"
   },
   "outputs": [],
   "source": [
    "cd jumanpp-1.02"
   ]
  },
  {
   "cell_type": "code",
   "execution_count": null,
   "metadata": {
    "colab": {
     "base_uri": "https://localhost:8080/",
     "height": 1000
    },
    "colab_type": "code",
    "id": "327hGZMF5DoQ",
    "outputId": "4ac3c792-7a90-4efc-d3e3-5ecaf3ce231e"
   },
   "outputs": [],
   "source": [
    "!./configure"
   ]
  },
  {
   "cell_type": "code",
   "execution_count": null,
   "metadata": {
    "colab": {
     "base_uri": "https://localhost:8080/",
     "height": 289
    },
    "colab_type": "code",
    "id": "fPqDX4_A5bof",
    "outputId": "11dd97a9-9767-4fe8-a754-06a123729091"
   },
   "outputs": [],
   "source": [
    "!make"
   ]
  },
  {
   "cell_type": "code",
   "execution_count": null,
   "metadata": {
    "colab": {
     "base_uri": "https://localhost:8080/",
     "height": 509
    },
    "colab_type": "code",
    "id": "aOPCnNmJ5m4M",
    "outputId": "59837ac3-0b11-452d-e407-37d56d8d40a2"
   },
   "outputs": [],
   "source": [
    "!sudo make install"
   ]
  },
  {
   "cell_type": "markdown",
   "metadata": {},
   "source": [
    "# pyknpのインストール\n",
    "* 同様にBERT動作のために必要"
   ]
  },
  {
   "cell_type": "code",
   "execution_count": null,
   "metadata": {
    "colab": {
     "base_uri": "https://localhost:8080/",
     "height": 127
    },
    "colab_type": "code",
    "id": "A85MV_QQ5qOq",
    "outputId": "855a7704-11fb-44f1-c87a-d5b3ab8e6c89"
   },
   "outputs": [],
   "source": [
    "!sudo pip install pyknp"
   ]
  },
  {
   "cell_type": "markdown",
   "metadata": {},
   "source": [
    "# JUMAN++に対応させるためにコードの一部を改修"
   ]
  },
  {
   "cell_type": "markdown",
   "metadata": {
    "colab": {},
    "colab_type": "code",
    "id": "Yxf4N5KCAoZU"
   },
   "source": [
    "* Colabの左側にあるファイルから /\"JUMAN++の保存場所\"/juman++/jumanpp-1.02/bert/tokenization.py を開く\n",
    "* tokenization.pyの真ん中やや上を改修する"
   ]
  },
  {
   "cell_type": "code",
   "execution_count": null,
   "metadata": {},
   "outputs": [],
   "source": [
    "class FullTokenizer(object):\n",
    "  \"\"\"Runs end-to-end tokenziation.\"\"\"\n",
    "\n",
    "  def __init__(self, vocab_file, do_lower_case=True):\n",
    "    self.vocab = load_vocab(vocab_file)\n",
    "    self.inv_vocab = {v: k for k, v in self.vocab.items()}\n",
    "\n",
    "    # JUMAN++を用いた日本語対応の場合、BasicTokenizerを使わない。\n",
    "    # self.basic_tokenizer = BasicTokenizer(do_lower_case=do_lower_case)\n",
    "    self.jumanpp_tokenizer = JumanPPTokenizer()\n",
    "    self.wordpiece_tokenizer = WordpieceTokenizer(vocab=self.vocab)\n",
    "\n",
    "  def tokenize(self, text):\n",
    "    split_tokens = []\n",
    "    # JUMAN++を用いた日本語対応用。\n",
    "    # 設定で切り替えることが出来ればよいのだが。\n",
    "    #for token in self.basic_tokenizer.tokenize(text):\n",
    "    for token in self.jumanpp_tokenizer.tokenize(text):\n",
    "      for sub_token in self.wordpiece_tokenizer.tokenize(token):\n",
    "        split_tokens.append(sub_token)\n",
    "\n",
    "    return split_tokens\n",
    "\n",
    "  def convert_tokens_to_ids(self, tokens):\n",
    "    return convert_by_vocab(self.vocab, tokens)\n",
    "\n",
    "  def convert_ids_to_tokens(self, ids):\n",
    "    return convert_by_vocab(self.inv_vocab, ids)"
   ]
  },
  {
   "cell_type": "markdown",
   "metadata": {},
   "source": [
    "* JumanPPTokenizerの追加\n",
    "* 同様のファイル内の一番下に以下のコードを追加"
   ]
  },
  {
   "cell_type": "code",
   "execution_count": null,
   "metadata": {},
   "outputs": [],
   "source": [
    "class JumanPPTokenizer(BasicTokenizer):\n",
    "  def __init__(self):\n",
    "    \"\"\"\n",
    "        日本語専用トークナイザの構築。\n",
    "        JUMAN++ を使用する。\n",
    "    \"\"\"\n",
    "    from pyknp import Juman\n",
    "\n",
    "    self.do_lower_case = False\n",
    "    self._jumanpp = Juman()\n",
    "\n",
    "  def tokenize(self, text):\n",
    "    \"\"\"Tokenizes a piece of text.\"\"\"\n",
    "    text = convert_to_unicode(text.replace(' ', ''))\n",
    "    text = self._clean_text(text)\n",
    "\n",
    "    juman_result = self._jumanpp.analysis(text)\n",
    "    split_tokens = []\n",
    "    for mrph in juman_result.mrph_list():\n",
    "      split_tokens.extend(self._run_split_on_punc(mrph.midasi))\n",
    "\n",
    "    output_tokens = whitespace_tokenize(\" \".join(split_tokens))\n",
    "    print(split_tokens)\n",
    "    return output_tokens"
   ]
  },
  {
   "cell_type": "markdown",
   "metadata": {},
   "source": [
    "# 参考URL\n",
    "* https://qiita.com/takahashi_yukou/items/b81319b8ef6cee13cb1b\n",
    "* https://dev.classmethod.jp/machine-learning/bert-text-embedding/"
   ]
  }
 ],
 "metadata": {
  "colab": {
   "collapsed_sections": [],
   "name": "BERT試用.ipynb",
   "provenance": []
  },
  "kernelspec": {
   "display_name": "Python 3",
   "language": "python",
   "name": "python3"
  },
  "language_info": {
   "codemirror_mode": {
    "name": "ipython",
    "version": 3
   },
   "file_extension": ".py",
   "mimetype": "text/x-python",
   "name": "python",
   "nbconvert_exporter": "python",
   "pygments_lexer": "ipython3",
   "version": "3.7.4"
  }
 },
 "nbformat": 4,
 "nbformat_minor": 1
}
